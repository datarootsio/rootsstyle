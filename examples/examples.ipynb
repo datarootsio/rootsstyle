{
 "cells": [
  {
   "cell_type": "markdown",
   "metadata": {},
   "source": [
    "# ROOTSSTYLE\n",
    "### A matplotlib styling package for clean, minimal dataroots themed graphs\n",
    "\n",
    "* pip install the package\n",
    "* import the package\n",
    "* use style either globally or with local context manager\n",
    "* use any extra functionalities as you would use them in matplotlib"
   ]
  },
  {
   "cell_type": "code",
   "execution_count": null,
   "metadata": {},
   "outputs": [],
   "source": [
    "!pip install notebook --upgrade\n",
    "!pip install Pillow\n",
    "!pip install seaborn \n",
    "!pip install matplotlib --upgrade\n",
    "!pip install rootsstyle --upgrade"
   ]
  },
  {
   "cell_type": "code",
   "execution_count": null,
   "metadata": {},
   "outputs": [],
   "source": [
    "import rootsstyle\n",
    "import seaborn as sns\n",
    "from pathlib import Path\n",
    "import matplotlib.pyplot as plt"
   ]
  },
  {
   "cell_type": "code",
   "execution_count": null,
   "metadata": {},
   "outputs": [],
   "source": [
    "# Loading some example datasets\n",
    "df_cars = sns.load_dataset(\"mpg\")\n",
    "df_cars[\"model_year\"] = \"' \" + df_cars[\"model_year\"].astype(str)\n",
    "df_cars_origin_year = df_cars.groupby([\"origin\", \"model_year\"]).mean().reset_index()\n",
    "\n",
    "df_flights = sns.load_dataset(\"flights\")\n",
    "df_flights_month_year_passenger = df_flights.pivot(\"month\", \"year\", \"passengers\")"
   ]
  },
  {
   "cell_type": "code",
   "execution_count": null,
   "metadata": {},
   "outputs": [],
   "source": [
    "# Some helper code to plot seaborn styled and rootsstyled graphs next to each other\n",
    "from PIL import Image\n",
    "OUTPUT_DIR = Path('temp')\n",
    "OUTPUT_DIR.mkdir(exist_ok=True)\n",
    "\n",
    "default_light_theme = '#FFFFFF'\n",
    "default_dark_theme = '#0D1117'\n",
    "def plot_next_to_each_other(images=None):\n",
    "    def plot_with_background_color(color):\n",
    "        _ , axes = plt.subplots(nrows=1, ncols=len(images), figsize=(15,8), facecolor=color)\n",
    "        for i in range(len(images)):\n",
    "            ax = axes[i]\n",
    "            image = Image.open(Path.joinpath(OUTPUT_DIR, images[i]))\n",
    "            ax.imshow(image)\n",
    "            ax.axis(\"off\")\n",
    "            plt.tight_layout()\n",
    "        plt.show()\n",
    "        plt.close()\n",
    "    plot_with_background_color(default_light_theme)\n",
    "    plot_with_background_color(default_dark_theme)"
   ]
  },
  {
   "cell_type": "markdown",
   "metadata": {},
   "source": [
    "# EXAMPLE PLOTS"
   ]
  },
  {
   "cell_type": "markdown",
   "metadata": {},
   "source": [
    "## BAR PLOT"
   ]
  },
  {
   "cell_type": "markdown",
   "metadata": {},
   "source": [
    "### DEFAULT SEABORN"
   ]
  },
  {
   "cell_type": "code",
   "execution_count": null,
   "metadata": {},
   "outputs": [],
   "source": [
    "sns.barplot(x=\"model_year\", y=\"mpg\", data=df_cars, hue=\"origin\", ci=None)\n",
    "plt.ylabel(\"mpg\")\n",
    "plt.xlabel(\"model year\")\n",
    "plt.title(\"Cars\")\n",
    "plt.legend()\n",
    "plt.tight_layout()\n",
    "plt.savefig(f\"{OUTPUT_DIR}/barplot.png\")\n",
    "plt.show()\n",
    "plt.close()"
   ]
  },
  {
   "cell_type": "markdown",
   "metadata": {},
   "source": [
    "### ROOTSSTYLE"
   ]
  },
  {
   "cell_type": "code",
   "execution_count": null,
   "metadata": {},
   "outputs": [],
   "source": [
    "with plt.style.context(rootsstyle.style):\n",
    "    sns.barplot(x=\"model_year\", y=\"mpg\", data=df_cars, hue=\"origin\", ci=None)\n",
    "    rootsstyle.ylabel(\"mpg\")\n",
    "    plt.xlabel(\"model year\")\n",
    "    rootsstyle.legend()\n",
    "    plt.title(\"Cars\")\n",
    "    plt.tight_layout()\n",
    "    plt.savefig(f\"{OUTPUT_DIR}/barplot_rootsstyle.png\")\n",
    "    plt.show()\n",
    "    plt.close()"
   ]
  },
  {
   "cell_type": "markdown",
   "metadata": {},
   "source": [
    "### COMPARISSON"
   ]
  },
  {
   "cell_type": "code",
   "execution_count": null,
   "metadata": {},
   "outputs": [],
   "source": [
    "plot_next_to_each_other(images=['barplot.png', 'barplot_rootsstyle.png'])"
   ]
  },
  {
   "cell_type": "markdown",
   "metadata": {},
   "source": [
    "## LINE PLOT"
   ]
  },
  {
   "cell_type": "markdown",
   "metadata": {},
   "source": [
    "### SEABORN DEFAULT"
   ]
  },
  {
   "cell_type": "code",
   "execution_count": null,
   "metadata": {},
   "outputs": [],
   "source": [
    "sns.lineplot(\n",
    "    x=\"model_year\",\n",
    "    y=\"mpg\",\n",
    "    data=df_cars,\n",
    "    hue=\"origin\",\n",
    "    ci=None\n",
    ")\n",
    "plt.legend()\n",
    "plt.ylabel(\"mpg\")\n",
    "plt.xlabel(\"model year\")\n",
    "plt.title(\"Cars\")\n",
    "plt.tight_layout()\n",
    "plt.savefig(f\"{OUTPUT_DIR}/lineplot_cars.png\")\n",
    "plt.close()"
   ]
  },
  {
   "cell_type": "markdown",
   "metadata": {},
   "source": [
    "### ROOTSSTYLE"
   ]
  },
  {
   "cell_type": "code",
   "execution_count": null,
   "metadata": {},
   "outputs": [],
   "source": [
    "with plt.style.context(rootsstyle.style):\n",
    "    sns.lineplot(\n",
    "        x=\"model_year\",\n",
    "        y=\"mpg\",\n",
    "        data=df_cars,\n",
    "        hue=\"origin\",\n",
    "        palette=sns.color_palette(\"dataroots-default\", as_cmap=True).colors[:3],\n",
    "        ci=None\n",
    "    )\n",
    "    rootsstyle.legend()\n",
    "    rootsstyle.ylabel(\"mpg\")\n",
    "    plt.xlabel(\"model year\")\n",
    "    plt.title(\"Cars\")\n",
    "    plt.tight_layout()\n",
    "    plt.savefig(f\"{OUTPUT_DIR}/lineplot_cars_rootsstyle.png\")\n",
    "    plt.close()"
   ]
  },
  {
   "cell_type": "markdown",
   "metadata": {},
   "source": [
    "### COMPARISSON"
   ]
  },
  {
   "cell_type": "code",
   "execution_count": null,
   "metadata": {},
   "outputs": [],
   "source": [
    "plot_next_to_each_other(images=['lineplot_cars.png', 'lineplot_cars_rootsstyle.png'])"
   ]
  },
  {
   "cell_type": "markdown",
   "metadata": {},
   "source": [
    "### COLOR PALETTES"
   ]
  },
  {
   "cell_type": "code",
   "execution_count": null,
   "metadata": {},
   "outputs": [],
   "source": [
    "# DEFAULT SEABORN\n",
    "sns.lineplot(\n",
    "    x=\"month\",\n",
    "    y=\"passengers\",\n",
    "    data=df_flights,\n",
    "    hue=\"year\",\n",
    "    legend=\"full\",\n",
    ")\n",
    "plt.legend()\n",
    "plt.ylabel(\"passengers\")\n",
    "plt.xlabel(\"month\")\n",
    "plt.title(\"Flights\")\n",
    "plt.tight_layout()\n",
    "plt.savefig(f\"{OUTPUT_DIR}/lineplot_hue.png\")\n",
    "plt.close()\n",
    "\n",
    "# ROOTSSTYLE GREEN\n",
    "with plt.style.context(rootsstyle.style):\n",
    "    sns.lineplot(\n",
    "        x=\"month\",\n",
    "        y=\"passengers\",\n",
    "        data=df_flights,\n",
    "        hue=\"year\",\n",
    "        palette=\"dataroots-green\",\n",
    "        legend=\"full\",\n",
    "    )\n",
    "    rootsstyle.legend()\n",
    "    rootsstyle.ylabel(\"passengers\")\n",
    "    plt.xlabel(\"month\")\n",
    "    plt.title(\"Flights\")\n",
    "    plt.tight_layout()\n",
    "    plt.savefig(f\"{OUTPUT_DIR}/lineplot_green.png\")\n",
    "    plt.close()\n",
    "\n",
    "# ROOTSSTYLE BLUE\n",
    "with plt.style.context(rootsstyle.style):\n",
    "    sns.lineplot(\n",
    "        x=\"month\",\n",
    "        y=\"passengers\",\n",
    "        data=df_flights,\n",
    "        hue=\"year\",\n",
    "        palette=\"dataroots-blue\",\n",
    "        legend=\"full\",\n",
    "    )\n",
    "    rootsstyle.legend()\n",
    "    rootsstyle.ylabel(\"passengers\")\n",
    "    plt.xlabel(\"month\")\n",
    "    plt.title(\"Flights\")\n",
    "    plt.tight_layout()\n",
    "    plt.savefig(f\"{OUTPUT_DIR}/lineplot_blue.png\")\n",
    "    plt.close()\n",
    "\n",
    "plot_next_to_each_other(images=['lineplot_hue.png','lineplot_green.png','lineplot_blue.png'])"
   ]
  },
  {
   "cell_type": "markdown",
   "metadata": {},
   "source": [
    "## HEATMAPS"
   ]
  },
  {
   "cell_type": "code",
   "execution_count": null,
   "metadata": {},
   "outputs": [],
   "source": [
    "# SEABORN DEFAULT\n",
    "sns.heatmap(data=df_flights_month_year_passenger)\n",
    "plt.ylabel(\"month\")\n",
    "plt.title(\"Passengers in flights\")\n",
    "plt.tight_layout()\n",
    "plt.savefig(f\"{OUTPUT_DIR}/heatmap.png\")\n",
    "plt.close()\n",
    "\n",
    "\n",
    "with plt.style.context(rootsstyle.style):\n",
    "    sns.heatmap(data=df_flights_month_year_passenger, cmap=\"dataroots-blue-to-green\")\n",
    "    rootsstyle.ylabel(\"month\")\n",
    "    plt.title(\"Passengers in flights\")\n",
    "    plt.tight_layout()\n",
    "    plt.savefig(f\"{OUTPUT_DIR}/heatmap_blue_to_green.png\")\n",
    "    plt.close()\n",
    "\n",
    "    sns.heatmap(data=df_flights_month_year_passenger, cmap=\"dataroots-green-to-blue\")\n",
    "    rootsstyle.ylabel(\"month\")\n",
    "    plt.title(\"Passengers in flights\")\n",
    "    plt.tight_layout()\n",
    "    plt.savefig(f\"{OUTPUT_DIR}/heatmap_green_to_blue.png\")\n",
    "    plt.close()\n",
    "\n",
    "plot_next_to_each_other(images=['heatmap.png','heatmap_blue_to_green.png','heatmap_green_to_blue.png'])"
   ]
  },
  {
   "cell_type": "markdown",
   "metadata": {},
   "source": [
    "## ROADMAP\n",
    "\n",
    "* automatic x-tick rotation\n",
    "* labelling specific datapoint with text\n",
    "* rootsstyle.publish() allows you to save a plot along with its code to a github repo for other people to use as an example.\n",
    "* open-sourcing: code reviews + public PyPI package"
   ]
  },
  {
   "cell_type": "code",
   "execution_count": null,
   "metadata": {},
   "outputs": [],
   "source": [
    "# Cleanup\n",
    "import shutil\n",
    "shutil.rmtree(OUTPUT_DIR)"
   ]
  }
 ],
 "metadata": {
  "interpreter": {
   "hash": "7c202c5f08e2e583d14c465f17b191b141f563d2389b9b4cb1c6ccf41b31aabc"
  },
  "kernelspec": {
   "display_name": "Python 3.8.10 64-bit ('rootsstyle-8SpEA8fF-py3.8': poetry)",
   "language": "python",
   "name": "python3"
  },
  "language_info": {
   "codemirror_mode": {
    "name": "ipython",
    "version": 3
   },
   "file_extension": ".py",
   "mimetype": "text/x-python",
   "name": "python",
   "nbconvert_exporter": "python",
   "pygments_lexer": "ipython3",
   "version": "3.8.10"
  },
  "orig_nbformat": 4
 },
 "nbformat": 4,
 "nbformat_minor": 2
}
